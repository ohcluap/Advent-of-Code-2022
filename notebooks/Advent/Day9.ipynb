{
 "cells": [
  {
   "cell_type": "code",
   "execution_count": null,
   "metadata": {},
   "outputs": [],
   "source": [
    "import os\n",
    "from pathlib import Path\n",
    "\n",
    "# os.getcwd() # '/workspaces/codespaces-jupyter/notebooks/Advent'\n",
    "day = 8\n",
    "base_path = '/workspaces/codespaces-jupyter'\n",
    "data_folder_path = os.path.join(base_path, 'data/Advent Data')\n",
    "data_path = os.path.join(data_folder_path, f'day{day}.txt')\n",
    "data_path, Path(data_path).exists()\n",
    "\n",
    "\n",
    "def get_data(test):\n",
    "    if test:\n",
    "        data = [\n",
    "            \"30373\",\n",
    "            \"25512\",\n",
    "            \"65332\",\n",
    "            \"33549\",\n",
    "            \"35390\"\n",
    "        ]\n",
    "    else:\n",
    "        with open(data_path) as file:\n",
    "            data = file.readlines()\n",
    "    return data\n"
   ]
  }
 ],
 "metadata": {
  "language_info": {
   "name": "python"
  },
  "orig_nbformat": 4
 },
 "nbformat": 4,
 "nbformat_minor": 2
}
