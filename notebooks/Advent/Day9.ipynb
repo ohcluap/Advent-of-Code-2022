{
 "cells": [
  {
   "cell_type": "code",
   "execution_count": null,
   "metadata": {},
   "outputs": [],
   "source": [
    "import os\n",
    "from pathlib import Path\n",
    "import collections \n",
    "\n",
    "# os.getcwd() # '/workspaces/codespaces-jupyter/notebooks/Advent'\n",
    "day = 9\n",
    "base_path = '/workspaces/codespaces-jupyter'\n",
    "data_folder_path = os.path.join(base_path, 'data/Advent Data')\n",
    "data_path = os.path.join(data_folder_path, f'day{day}.txt')\n",
    "data_path, Path(data_path).exists()\n",
    "\n",
    "\n",
    "def get_data(test):\n",
    "    if test:\n",
    "        data = [\n",
    "            \"R 4\",\n",
    "            \"U 4\",\n",
    "            \"L 3\",\n",
    "            \"D 1\",\n",
    "            \"R 4\",\n",
    "            \"D 1\",\n",
    "            \"L 5\",\n",
    "            \"R 2\",\n",
    "        ]\n",
    "    else:\n",
    "        with open(data_path) as file:\n",
    "            data = file.readlines()\n",
    "    return data\n"
   ]
  },
  {
   "cell_type": "code",
   "execution_count": null,
   "metadata": {},
   "outputs": [],
   "source": [
    "test = False\n",
    "data = get_data(test)\n",
    "\n",
    "num_ropes = 10\n",
    "ropes = [[0,0] for _ in range(num_ropes)]\n",
    "\n",
    "visited = collections.defaultdict(set)\n",
    "for idx in range(num_ropes):\n",
    "    visited[idx].add((0,0))\n",
    "\n",
    "for line in data:\n",
    "    line = line.rstrip()\n",
    "    [direction, moves] = line.split(' ')\n",
    "\n",
    "    for x in range(int(moves)):\n",
    "        if direction == 'R':\n",
    "            ropes[0][1] += 1\n",
    "        if direction == 'L':\n",
    "            ropes[0][1] -= 1\n",
    "        if direction == 'U':\n",
    "            ropes[0][0] += 1\n",
    "        if direction == 'D':\n",
    "            ropes[0][0] -= 1\n",
    "        \n",
    "\n",
    "        for rope in range(1, num_ropes):\n",
    "            hor, dia = 0,0 \n",
    "            diff = abs(ropes[rope-1][0] - ropes[rope][0]) + abs(ropes[rope-1][1] - ropes[rope][1])\n",
    "            if diff == 2:\n",
    "                if ropes[rope-1][0] - ropes[rope][0] > 1:\n",
    "                    hor += 1\n",
    "                elif ropes[rope-1][0] - ropes[rope][0] < -1:\n",
    "                    hor -= 1\n",
    "                \n",
    "                if ropes[rope-1][1] - ropes[rope][1] > 1:\n",
    "                    dia += 1\n",
    "                elif ropes[rope-1][1] - ropes[rope][1] < -1: \n",
    "                    dia -= 1\n",
    "            elif diff > 2:\n",
    "                if ropes[rope-1][0] - ropes[rope][0] > 0:\n",
    "                    hor += 1\n",
    "                elif ropes[rope-1][0] - ropes[rope][0] < 0:\n",
    "                    hor -= 1\n",
    "                \n",
    "                if ropes[rope-1][1] - ropes[rope][1] > 0:\n",
    "                    dia += 1\n",
    "                elif ropes[rope-1][1] - ropes[rope][1] < 0: \n",
    "                    dia -= 1\n",
    "\n",
    "            ropes[rope][0] += hor\n",
    "            ropes[rope][1] += dia\n",
    "            visited[rope].add((ropes[rope][0], ropes[rope][1]))\n",
    "\n",
    "print(len(visited[9]))\n"
   ]
  }
 ],
 "metadata": {
  "kernelspec": {
   "display_name": "Python 3",
   "language": "python",
   "name": "python3"
  },
  "language_info": {
   "codemirror_mode": {
    "name": "ipython",
    "version": 3
   },
   "file_extension": ".py",
   "mimetype": "text/x-python",
   "name": "python",
   "nbconvert_exporter": "python",
   "pygments_lexer": "ipython3",
   "version": "3.10.4 (main, Nov 29 2022, 20:00:25) [GCC 9.4.0]"
  },
  "orig_nbformat": 4,
  "vscode": {
   "interpreter": {
    "hash": "3ad933181bd8a04b432d3370b9dc3b0662ad032c4dfaa4e4f1596c548f763858"
   }
  }
 },
 "nbformat": 4,
 "nbformat_minor": 2
}
