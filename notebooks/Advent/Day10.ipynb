{
 "cells": [
  {
   "cell_type": "code",
   "execution_count": null,
   "metadata": {},
   "outputs": [],
   "source": [
    "import os\n",
    "from pathlib import Path\n",
    "\n",
    "# os.getcwd() # '/workspaces/codespaces-jupyter/notebooks/Advent'\n",
    "day = 10\n",
    "base_path = '/workspaces/codespaces-jupyter'\n",
    "data_folder_path = os.path.join(base_path, 'data/Advent Data')\n",
    "data_path = os.path.join(data_folder_path, f'day{day}.txt')\n",
    "data_path, Path(data_path).exists()\n",
    "test_data_folder_path = os.path.join(base_path, 'data/Advent Data/test')\n",
    "test_data_path = os.path.join(data_folder_path, f'day{day}.txt')\n",
    "\n",
    "def get_data(test=True):\n",
    "    if test:\n",
    "        with open(test_data_path) as file:\n",
    "            data = file.readlines()\n",
    "    else:\n",
    "        with open(data_path) as file:\n",
    "            data = file.readlines()\n",
    "    return data\n"
   ]
  },
  {
   "cell_type": "code",
   "execution_count": null,
   "metadata": {},
   "outputs": [],
   "source": [
    "test= False\n",
    "data = get_data(test)\n",
    "\n",
    "curr = 1\n",
    "values = []\n",
    "\n",
    "\n",
    "for line in data:\n",
    "    line = line.rstrip()\n",
    "    commands = line.split(\" \")\n",
    "    if len(commands) == 1:\n",
    "        values.append(curr)\n",
    "    if commands[0] == 'addx':\n",
    "        values.append(curr)\n",
    "        curr += int(commands[1])\n",
    "        values.append(curr)    "
   ]
  },
  {
   "cell_type": "code",
   "execution_count": null,
   "metadata": {},
   "outputs": [],
   "source": [
    "nums = [20, 60, 100, 140, 180, 220]\n",
    "\n",
    "running_sum = 0\n",
    "\n",
    "for num in nums:\n",
    "    running_sum += values[num-2] * num\n",
    "    \n",
    "\n",
    "print(running_sum)"
   ]
  },
  {
   "attachments": {},
   "cell_type": "markdown",
   "metadata": {},
   "source": [
    "-- Part 2 --"
   ]
  },
  {
   "cell_type": "code",
   "execution_count": null,
   "metadata": {},
   "outputs": [],
   "source": [
    "crt = []\n",
    "\n",
    "current_row = []\n",
    "sprite = 1\n",
    "\n",
    "for idx, value in enumerate(values):\n",
    "    if idx % 40 in (sprite -1, sprite +1, sprite):\n",
    "        current_row.append('#')\n",
    "    else:\n",
    "        current_row.append('.')\n",
    "    if len(current_row) == 40:\n",
    "        crt.append(current_row)\n",
    "        current_row = []\n",
    "    sprite = value\n",
    "\n",
    "for row in crt:\n",
    "    print(''.join(row))\n",
    "    \n"
   ]
  }
 ],
 "metadata": {
  "kernelspec": {
   "display_name": "Python 3",
   "language": "python",
   "name": "python3"
  },
  "language_info": {
   "codemirror_mode": {
    "name": "ipython",
    "version": 3
   },
   "file_extension": ".py",
   "mimetype": "text/x-python",
   "name": "python",
   "nbconvert_exporter": "python",
   "pygments_lexer": "ipython3",
   "version": "3.10.4 (main, Nov 29 2022, 20:00:25) [GCC 9.4.0]"
  },
  "orig_nbformat": 4,
  "vscode": {
   "interpreter": {
    "hash": "3ad933181bd8a04b432d3370b9dc3b0662ad032c4dfaa4e4f1596c548f763858"
   }
  }
 },
 "nbformat": 4,
 "nbformat_minor": 2
}
