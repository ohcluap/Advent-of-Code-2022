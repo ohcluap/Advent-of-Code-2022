{
 "cells": [
  {
   "cell_type": "code",
   "execution_count": null,
   "metadata": {},
   "outputs": [],
   "source": [
    "import os\n",
    "from pathlib import Path\n",
    "from collections import deque\n",
    "# os.getcwd() # '/workspaces/codespaces-jupyter/notebooks/Advent'\n",
    "day = 11\n",
    "base_path = '/workspaces/codespaces-jupyter'\n",
    "data_folder_path = os.path.join(base_path, 'data/Advent Data')\n",
    "data_path = os.path.join(data_folder_path, f'day{day}.txt')\n",
    "data_path, Path(data_path).exists()\n",
    "test_data_folder_path = os.path.join(base_path, 'data/Advent Data/test')\n",
    "test_data_path = os.path.join(test_data_folder_path, f'day{day}.txt')\n",
    "\n",
    "def get_data(test=True):\n",
    "    if test:\n",
    "        with open(test_data_path) as file:\n",
    "            data = file.readlines()\n",
    "    else:\n",
    "        with open(data_path) as file:\n",
    "            data = file.readlines()\n",
    "    return data\n"
   ]
  },
  {
   "cell_type": "code",
   "execution_count": null,
   "metadata": {},
   "outputs": [],
   "source": [
    "class Monkey:\n",
    "    items: deque\n",
    "    operation: str\n",
    "    worry_test: str\n",
    "    next_monkey_true: int\n",
    "    next_monkey_false: int\n",
    "    inspect = 0\n",
    "\n",
    "    def __str__(self):\n",
    "        return f\"inspect = {self.inspect} \\n items = {self.items}\\n operation = {self.operation} \\n worry_test = {self.worry_test} \\n next_monkey_true = {self.next_monkey_true} \\n next_monkey_false = {self.next_monkey_false}\""
   ]
  },
  {
   "cell_type": "code",
   "execution_count": null,
   "metadata": {},
   "outputs": [],
   "source": [
    "test = False\n",
    "data = get_data(test)\n",
    "\n",
    "current_monkey = Monkey()\n",
    "monkies = []\n",
    "\n",
    "for line in data:\n",
    "    line = line.rstrip().lstrip()\n",
    "    if line == \"\":\n",
    "        continue\n",
    "    row = line.split(':')\n",
    "    if row[0].startswith(\"Monkey\"):\n",
    "        continue\n",
    "    if row[0].startswith(\"Starting items\"):\n",
    "        current_monkey.items = deque(map(int, row[1].split(\", \")))\n",
    "    if row[0].startswith(\"Operation\"):\n",
    "        current_monkey.operation = row[1].split('= ')[-1]\n",
    "    if row[0].startswith(\"Test\"):\n",
    "        current_monkey.worry_test = int(row[1].split(\" \")[-1])\n",
    "    if row[0].startswith(\"If true\"):\n",
    "        current_monkey.next_monkey_true = int(row[1].split(\" \")[-1])\n",
    "    if row[0].startswith(\"If false\"):\n",
    "        current_monkey.next_monkey_false = int(row[1].split(\" \")[-1])\n",
    "        if test:\n",
    "            print(current_monkey)\n",
    "        monkies.append(current_monkey)\n",
    "        current_monkey = Monkey()"
   ]
  },
  {
   "cell_type": "code",
   "execution_count": null,
   "metadata": {},
   "outputs": [],
   "source": [
    "iterations = 10000\n",
    "worry_divisor = 1\n",
    "for monkey in monkies:\n",
    "    worry_divisor *= monkey.worry_test\n",
    "while iterations > 0:\n",
    "    iterations -= 1\n",
    "\n",
    "    for monkey in monkies:\n",
    "        while monkey.items:\n",
    "            item = monkey.items.popleft()\n",
    "            monkey.inspect += 1\n",
    "            new_worry = eval(monkey.operation.replace(\"old\", str(item)))\n",
    "            new_worry %= worry_divisor\n",
    "            if new_worry % monkey.worry_test == 0:\n",
    "                monkies[monkey.next_monkey_true].items.append(new_worry)\n",
    "            else:\n",
    "                monkies[monkey.next_monkey_false].items.append(new_worry)\n"
   ]
  },
  {
   "cell_type": "code",
   "execution_count": null,
   "metadata": {},
   "outputs": [],
   "source": [
    "inspect = [monkey.inspect for monkey in monkies]\n",
    "print(inspect)\n",
    "top_two = sorted(inspect, reverse=True)[:2]\n",
    "\n",
    "running_sum = top_two[0] * top_two[1]\n",
    "print(running_sum)"
   ]
  }
 ],
 "metadata": {
  "kernelspec": {
   "display_name": "Python 3",
   "language": "python",
   "name": "python3"
  },
  "language_info": {
   "codemirror_mode": {
    "name": "ipython",
    "version": 3
   },
   "file_extension": ".py",
   "mimetype": "text/x-python",
   "name": "python",
   "nbconvert_exporter": "python",
   "pygments_lexer": "ipython3",
   "version": "3.10.4"
  },
  "orig_nbformat": 4,
  "vscode": {
   "interpreter": {
    "hash": "3ad933181bd8a04b432d3370b9dc3b0662ad032c4dfaa4e4f1596c548f763858"
   }
  }
 },
 "nbformat": 4,
 "nbformat_minor": 2
}
