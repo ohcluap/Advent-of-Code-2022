{
 "cells": [
  {
   "cell_type": "code",
   "execution_count": 1,
   "metadata": {},
   "outputs": [],
   "source": [
    "import os\n",
    "from pathlib import Path\n",
    "\n",
    "# os.getcwd() # '/workspaces/codespaces-jupyter/notebooks/Advent'\n",
    "day = 8\n",
    "base_path = '/workspaces/codespaces-jupyter'\n",
    "data_folder_path = os.path.join(base_path, 'data/Advent Data')\n",
    "data_path = os.path.join(data_folder_path, f'day{day}.txt')\n",
    "data_path, Path(data_path).exists()\n",
    "\n",
    "\n",
    "def get_data(test):\n",
    "    if test:\n",
    "        data = [\n",
    "        ]\n",
    "    else:\n",
    "        with open(data_path) as file:\n",
    "            data = file.readlines()\n",
    "    return data\n"
   ]
  }
 ],
 "metadata": {
  "kernelspec": {
   "display_name": "Python 3.10.4 64-bit",
   "language": "python",
   "name": "python3"
  },
  "language_info": {
   "codemirror_mode": {
    "name": "ipython",
    "version": 3
   },
   "file_extension": ".py",
   "mimetype": "text/x-python",
   "name": "python",
   "nbconvert_exporter": "python",
   "pygments_lexer": "ipython3",
   "version": "3.10.4"
  },
  "orig_nbformat": 4,
  "vscode": {
   "interpreter": {
    "hash": "3ad933181bd8a04b432d3370b9dc3b0662ad032c4dfaa4e4f1596c548f763858"
   }
  }
 },
 "nbformat": 4,
 "nbformat_minor": 2
}
