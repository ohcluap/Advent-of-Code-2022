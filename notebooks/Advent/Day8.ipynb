{
 "cells": [
  {
   "cell_type": "code",
   "execution_count": 150,
   "metadata": {},
   "outputs": [],
   "source": [
    "import os\n",
    "from pathlib import Path\n",
    "\n",
    "# os.getcwd() # '/workspaces/codespaces-jupyter/notebooks/Advent'\n",
    "day = 8\n",
    "base_path = '/workspaces/codespaces-jupyter'\n",
    "data_folder_path = os.path.join(base_path, 'data/Advent Data')\n",
    "data_path = os.path.join(data_folder_path, f'day{day}.txt')\n",
    "data_path, Path(data_path).exists()\n",
    "\n",
    "\n",
    "def get_data(test):\n",
    "    if test:\n",
    "        data = [\n",
    "            \"30373\",\n",
    "            \"25512\",\n",
    "            \"65332\",\n",
    "            \"33549\",\n",
    "            \"35390\"\n",
    "        ]\n",
    "    else:\n",
    "        with open(data_path) as file:\n",
    "            data = file.readlines()\n",
    "    return data\n"
   ]
  },
  {
   "cell_type": "code",
   "execution_count": 151,
   "metadata": {},
   "outputs": [
    {
     "name": "stdout",
     "output_type": "stream",
     "text": [
      "[[3, 0, 3, 7, 3], [2, 5, 5, 1, 2], [6, 5, 3, 3, 2], [3, 3, 5, 4, 9], [3, 5, 3, 9, 0]]\n"
     ]
    }
   ],
   "source": [
    "test = True\n",
    "data = get_data(test)\n",
    "visible_count = 0\n",
    "# is visible is basically if something is smaller than what is around it\n",
    "\n",
    "grid = []\n",
    "\n",
    "for line in data:\n",
    "    line = line.rstrip()\n",
    "    curr = []\n",
    "    for c in line:\n",
    "        curr.append(int(c))\n",
    "    grid.append(curr)\n",
    "\n",
    "if test:\n",
    "    print(grid)\n",
    "\n",
    "\n",
    "visited = {}  # visited is a dict with each positiosn largest in each direction\n",
    "\n",
    "\n",
    "class Largest:\n",
    "    def __init__(self, left=0, right=0, up=0, down=0):\n",
    "        self.left = left\n",
    "        self.right = right\n",
    "        self.up = up\n",
    "        self.down = down\n",
    "\n",
    "\n",
    "# def largest_in_direction(pos_hor, pos_dia):\n",
    "#     if pos_hor < 0 or pos_hor >= len(grid) or pos_dia < 0 or pos_dia >= len(grid[0]):\n",
    "#         return Largest(-1, -1, -1, -1)\n",
    "\n",
    "#     if (pos_hor, pos_dia) in visited:\n",
    "#         return visited[(pos_hor, pos_dia)]\n",
    "\n",
    "#     left = largest_in_direction(pos_hor=pos_hor, pos_dia=pos_dia-1).left\n",
    "#     right = largest_in_direction(pos_hor=pos_hor, pos_dia=pos_dia+1).right\n",
    "#     up = largest_in_direction(pos_hor=pos_hor+1, pos_dia=pos_dia).up\n",
    "#     down = largest_in_direction(pos_hor=pos_hor-1, pos_dia=pos_dia).down\n",
    "\n",
    "#     curr = grid[pos_hor][pos_dia]\n",
    "#     if curr > left or curr > right or curr > up or curr > down:\n",
    "#         visible_count += 1\n",
    "#     visited[(pos_hor, pos_dia)] = Largest(left=max(curr, left),\n",
    "#                                           right=max(curr, right), up=max(curr, up), down=max(curr, down))\n",
    "\n",
    "#     return visited[(pos_hor, pos_dia)]\n",
    "\n",
    "\n",
    "# dirs = [(0, -1), (0, 1), (1, 0), (-1, 0)]\n",
    "# for outer in range(len(grid)):\n",
    "#     for inner in range(len(grid[outer])):\n",
    "#         largest_in_direction(outer, inner)\n",
    "\n",
    "# print(visible_count)\n"
   ]
  },
  {
   "cell_type": "code",
   "execution_count": 152,
   "metadata": {},
   "outputs": [],
   "source": [
    "dirs = [(0, -1), (0, 1), (1, 0), (-1, 0)]\n",
    "potentials = set()\n",
    "\n",
    "# left\n",
    "for row in range(len(grid)):\n",
    "    left_row = []\n",
    "    for col in range(len(grid[row])):\n",
    "        new_col = col - 1\n",
    "        left = -1\n",
    "        if new_col < 0:\n",
    "            left = -1\n",
    "        else:\n",
    "            left = left_row[-1]\n",
    "        \n",
    "        if left < grid[row][col]:\n",
    "            potentials.add((row, col))\n",
    "        left_row.append(max(left, grid[row][col]))\n"
   ]
  },
  {
   "cell_type": "code",
   "execution_count": 153,
   "metadata": {},
   "outputs": [
    {
     "name": "stdout",
     "output_type": "stream",
     "text": [
      "0 [3, 7, 3, 0, 3] [3, 7, 7, 7, 7]\n",
      "1 [2, 1, 5, 5, 2] [2, 2, 5, 5, 5]\n",
      "2 [2, 3, 3, 5, 6] [2, 3, 3, 5, 6]\n",
      "3 [9, 4, 5, 3, 3] [9, 9, 9, 9, 9]\n",
      "4 [0, 9, 3, 5, 3] [0, 9, 9, 9, 9]\n"
     ]
    }
   ],
   "source": [
    "# right\n",
    "for row in range(len(grid)):\n",
    "    right_row = []\n",
    "    for col in range(len(grid[row])-1, -1, -1):\n",
    "        new_col = col + 1\n",
    "        right = -1\n",
    "        if new_col >= len(grid):\n",
    "            right = -1\n",
    "        else:\n",
    "            right = right_row[-1]\n",
    "            \n",
    "        if right < grid[row][col]:\n",
    "            potentials.add((row, col))\n",
    "        right_row.append(max(right, grid[row][col]))\n",
    "    \n",
    "    if test:\n",
    "        print(row, grid[row][::-1], right_row)\n"
   ]
  },
  {
   "cell_type": "code",
   "execution_count": 154,
   "metadata": {},
   "outputs": [
    {
     "name": "stdout",
     "output_type": "stream",
     "text": [
      "4 [3, 2, 6, 3, 3] [3, 3, 6, 6, 6]\n",
      "4 [0, 5, 5, 3, 5] [0, 5, 5, 5, 5]\n",
      "4 [3, 5, 3, 5, 3] [3, 5, 5, 5, 5]\n",
      "4 [7, 1, 3, 4, 9] [7, 7, 7, 7, 9]\n",
      "4 [3, 2, 2, 9, 0] [3, 3, 3, 9, 9]\n"
     ]
    }
   ],
   "source": [
    "# down\n",
    "for col in range(len(grid[0])):\n",
    "    cols = []\n",
    "    up_col = []\n",
    "    for row in range(len(grid)):\n",
    "        cols.append(grid[row][col])\n",
    "        new_row = row - 1\n",
    "        up = -1\n",
    "        if new_row < 0:\n",
    "            up = -1\n",
    "        else:\n",
    "            up = up_col[-1]\n",
    "            \n",
    "        if up < grid[row][col]:\n",
    "            potentials.add((row, col))\n",
    "        up_col.append(max(up, grid[row][col]))\n",
    "    \n",
    "    if test:\n",
    "        print(row, cols, up_col)\n"
   ]
  },
  {
   "cell_type": "code",
   "execution_count": 155,
   "metadata": {},
   "outputs": [
    {
     "name": "stdout",
     "output_type": "stream",
     "text": [
      "0 [3, 3, 6, 2, 3] [3, 3, 6, 6, 6]\n",
      "0 [5, 3, 5, 5, 0] [5, 5, 5, 5, 5]\n",
      "0 [3, 5, 3, 5, 3] [3, 5, 5, 5, 5]\n",
      "0 [9, 4, 3, 1, 7] [9, 9, 9, 9, 9]\n",
      "0 [0, 9, 2, 2, 3] [0, 9, 9, 9, 9]\n",
      "21\n"
     ]
    }
   ],
   "source": [
    "# up\n",
    "for col in range(len(grid[0])):\n",
    "    cols = []\n",
    "    up_col = []\n",
    "    for row in range(len(grid)-1, -1, -1):\n",
    "        cols.append(grid[row][col])\n",
    "        new_row = row + 1\n",
    "        up = -1\n",
    "        if new_row >= len(grid[0]):\n",
    "            up = -1\n",
    "        else:\n",
    "            up = up_col[-1]\n",
    "            \n",
    "        if up < grid[row][col]:\n",
    "            potentials.add((row, col))\n",
    "        up_col.append(max(up, grid[row][col]))\n",
    "    \n",
    "    if test:\n",
    "        print(row, cols, up_col)\n",
    "\n",
    "print(len(potentials))"
   ]
  },
  {
   "cell_type": "code",
   "execution_count": 156,
   "metadata": {},
   "outputs": [],
   "source": [
    "# PART 2\n",
    "test = False\n",
    "data = get_data(test)\n",
    "\n",
    "grid = []\n",
    "\n",
    "for line in data:\n",
    "    line = line.rstrip()\n",
    "    curr = []\n",
    "    for c in line:\n",
    "        curr.append(int(c))\n",
    "    grid.append(curr)\n",
    "\n",
    "if test:\n",
    "    print(grid)\n"
   ]
  },
  {
   "cell_type": "code",
   "execution_count": 157,
   "metadata": {},
   "outputs": [],
   "source": [
    "# Part 2 left\n",
    "import collections\n",
    "dirs = [(0, -1), (0, 1), (1, 0), (-1, 0)]\n",
    "visibles_left = collections.defaultdict(int)\n",
    "# left\n",
    "for row in range(len(grid)):\n",
    "    for col in range(len(grid[row])):\n",
    "        new_col = col - 1\n",
    "        left = -1\n",
    "        if new_col < 0:\n",
    "            visibles_left[(row, col)] += 0\n",
    "        else:\n",
    "            while new_col >= 0:\n",
    "                # Can optimize to dp and reuse cals\n",
    "                if grid[row][new_col] < grid[row][col]:\n",
    "                    visibles_left[(row, col)] += 1\n",
    "                else:\n",
    "                    visibles_left[(row, col)] += 1\n",
    "                    break\n",
    "                new_col -= 1\n",
    "\n",
    "if test:\n",
    "    print(visibles_left)\n",
    "\n"
   ]
  },
  {
   "cell_type": "code",
   "execution_count": 158,
   "metadata": {},
   "outputs": [],
   "source": [
    "# Part 2 right\n",
    "visibles_right = collections.defaultdict(int)\n",
    "for row in range(len(grid)):\n",
    "    for col in range(len(grid[row])-1, -1, -1):\n",
    "        new_col = col + 1\n",
    "        right = -1\n",
    "        if new_col >= len(grid):\n",
    "            visibles_right[(row, col)] += 0\n",
    "        else:\n",
    "            while new_col < len(grid):\n",
    "                # Can optimize to dp and reuse calcs\n",
    "                if grid[row][new_col] < grid[row][col]:\n",
    "                    visibles_right[(row, col)] += 1\n",
    "                else:\n",
    "                    visibles_right[(row, col)] += 1\n",
    "                    break\n",
    "                new_col += 1\n",
    "\n",
    "if test:\n",
    "    print(visibles_right)\n"
   ]
  },
  {
   "cell_type": "code",
   "execution_count": 159,
   "metadata": {},
   "outputs": [],
   "source": [
    "# Part 2 up\n",
    "visibles_up = collections.defaultdict(int)\n",
    "\n",
    "for col in range(len(grid[0])):\n",
    "    for row in range(len(grid)):\n",
    "        new_row = row - 1\n",
    "        down = -1\n",
    "        if new_row < 0:\n",
    "            visibles_up[(row, col)] += 0\n",
    "        else:\n",
    "            while new_row >= 0:\n",
    "                # Can optimize to dp and reuse calcs\n",
    "                if grid[new_row][col] < grid[row][col]:\n",
    "                    visibles_up[(row, col)] += 1\n",
    "                else:\n",
    "                    visibles_up[(row, col)] += 1\n",
    "                    break\n",
    "                new_row -= 1\n",
    "\n",
    "if test:\n",
    "    print(visibles_up)\n"
   ]
  },
  {
   "cell_type": "code",
   "execution_count": 160,
   "metadata": {},
   "outputs": [],
   "source": [
    "# Part 2 down\n",
    "visibles_down = collections.defaultdict(int)\n",
    "\n",
    "for col in range(len(grid[0])):\n",
    "    for row in range(len(grid)-1, -1, -1):\n",
    "        new_row = row + 1\n",
    "        down = -1\n",
    "        if new_row >= len(grid):\n",
    "            visibles_down[(row, col)] += 0\n",
    "        else:\n",
    "            while new_row < len(grid):\n",
    "                # Can optimize to dp and reuse calcs\n",
    "                if grid[new_row][col] < grid[row][col]:\n",
    "                    visibles_down[(row, col)] += 1\n",
    "                else:\n",
    "                    visibles_down[(row, col)] += 1\n",
    "                    break\n",
    "                new_row += 1\n",
    "\n",
    "if test:\n",
    "    print(visibles_down)\n"
   ]
  },
  {
   "cell_type": "code",
   "execution_count": 161,
   "metadata": {},
   "outputs": [],
   "source": [
    "max_sum = 0\n",
    "\n",
    "for coord in visibles_down.keys():\n",
    "    if test:\n",
    "        print(coord, visibles_down[coord], visibles_up[coord] ,visibles_left[coord] , visibles_right[coord])\n",
    "    max_sum = max(max_sum, visibles_down[coord] * visibles_up[coord] * visibles_left[coord] * visibles_right[coord])"
   ]
  },
  {
   "cell_type": "code",
   "execution_count": 162,
   "metadata": {},
   "outputs": [
    {
     "data": {
      "text/plain": [
       "313200"
      ]
     },
     "execution_count": 162,
     "metadata": {},
     "output_type": "execute_result"
    }
   ],
   "source": [
    "max_sum"
   ]
  }
 ],
 "metadata": {
  "kernelspec": {
   "display_name": "Python 3.10.4 64-bit",
   "language": "python",
   "name": "python3"
  },
  "language_info": {
   "codemirror_mode": {
    "name": "ipython",
    "version": 3
   },
   "file_extension": ".py",
   "mimetype": "text/x-python",
   "name": "python",
   "nbconvert_exporter": "python",
   "pygments_lexer": "ipython3",
   "version": "3.10.4"
  },
  "orig_nbformat": 4,
  "vscode": {
   "interpreter": {
    "hash": "3ad933181bd8a04b432d3370b9dc3b0662ad032c4dfaa4e4f1596c548f763858"
   }
  }
 },
 "nbformat": 4,
 "nbformat_minor": 2
}
