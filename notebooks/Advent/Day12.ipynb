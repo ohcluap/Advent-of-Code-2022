{
 "cells": [
  {
   "cell_type": "code",
   "execution_count": null,
   "metadata": {},
   "outputs": [],
   "source": [
    "import os\n",
    "from pathlib import Path\n",
    "import collections\n",
    "\n",
    "# os.getcwd() # '/workspaces/codespaces-jupyter/notebooks/Advent'\n",
    "day = 12\n",
    "base_path = '/workspaces/codespaces-jupyter'\n",
    "data_folder_path = os.path.join(base_path, 'data/Advent Data')\n",
    "data_path = os.path.join(data_folder_path, f'day{day}.txt')\n",
    "data_path, Path(data_path).exists()\n",
    "test_data_folder_path = os.path.join(base_path, 'data/Advent Data/test')\n",
    "test_data_path = os.path.join(data_folder_path, f'day{day}.txt')\n",
    "\n",
    "def get_data(test=True):\n",
    "    if test:\n",
    "        with open(test_data_path) as file:\n",
    "            data = file.readlines()\n",
    "    else:\n",
    "        with open(data_path) as file:\n",
    "            data = file.readlines()\n",
    "    return data\n"
   ]
  },
  {
   "cell_type": "code",
   "execution_count": null,
   "metadata": {},
   "outputs": [],
   "source": [
    "class Node:\n",
    "    def __init__(self, value, children):\n",
    "        self.value = value\n",
    "        self.children = children"
   ]
  },
  {
   "cell_type": "code",
   "execution_count": null,
   "metadata": {},
   "outputs": [],
   "source": [
    "test = False\n",
    "lines = get_data(test)\n",
    "\n",
    "grid = []\n",
    "current_row = []\n",
    "current_pos = (0,0)\n",
    "\n",
    "for line in lines:\n",
    "    line = line.rstrip()\n",
    "    for c in line:\n",
    "        current_row.append(c)\n",
    "    grid.append(current_row)\n",
    "    current_row = []\n"
   ]
  },
  {
   "cell_type": "code",
   "execution_count": null,
   "metadata": {},
   "outputs": [],
   "source": [
    "nodes = {}\n",
    "dirs = [(1,0),(-1,0), (0,-1), (0,1)]\n",
    "start, end = [], None\n",
    "for row in range(len(grid)):\n",
    "    for col in range(len(grid[row])):\n",
    "        children = []\n",
    "        current = grid[row][col]\n",
    "        if current == 'S':\n",
    "            current = 'a'\n",
    "        if current == 'E':\n",
    "            current = 'z'\n",
    "            end = (row, col)\n",
    "            \n",
    "        if current == 'a':\n",
    "            start.append((row, col))\n",
    "\n",
    "\n",
    "        for row_offset, col_offset in dirs:\n",
    "            new_row = row+row_offset\n",
    "            new_col = col+col_offset\n",
    "\n",
    "            if new_row < 0 or new_row >= len(grid) or new_col < 0 or new_col >= len(grid[row]):\n",
    "                continue\n",
    "\n",
    "            new_char = grid[new_row][new_col]\n",
    "            if new_char == 'E':\n",
    "                new_char = 'z'\n",
    "                end = (new_row, new_col)\n",
    "            if ord(new_char) - ord(current) <= 1:\n",
    "                children.append((new_row, new_col))\n",
    "            \n",
    "        nodes[(row,col)] =  children  \n",
    "\n",
    "len(nodes)"
   ]
  },
  {
   "cell_type": "code",
   "execution_count": null,
   "metadata": {},
   "outputs": [],
   "source": [
    "queue = collections.deque()\n",
    "paths = []\n",
    "\n",
    "for node in start:\n",
    "    visited = {node: 0}\n",
    "    visit_order = []\n",
    "    queue.append(node)\n",
    "    while len(queue) > 0:\n",
    "        curr = queue.popleft()\n",
    "        for child in nodes[curr]:\n",
    "            if child not in visited:\n",
    "                visited[child] = visited[curr] + 1\n",
    "                queue.append(child)\n",
    "                if curr == end:\n",
    "                    print('end')\n",
    "                    break\n",
    "    if len(visited) == len(grid)*len(grid[0]):\n",
    "        paths.append(visited[end]) # just in case the path doesn't work for some reason?\n",
    "# part 1 is only paths[0]\n",
    "print(paths[0])\n",
    "# part 2 is min(paths)\n",
    "print(min(paths))\n"
   ]
  }
 ],
 "metadata": {
  "kernelspec": {
   "display_name": "Python 3",
   "language": "python",
   "name": "python3"
  },
  "language_info": {
   "codemirror_mode": {
    "name": "ipython",
    "version": 3
   },
   "file_extension": ".py",
   "mimetype": "text/x-python",
   "name": "python",
   "nbconvert_exporter": "python",
   "pygments_lexer": "ipython3",
   "version": "3.10.4 (main, Nov 29 2022, 20:00:25) [GCC 9.4.0]"
  },
  "orig_nbformat": 4,
  "vscode": {
   "interpreter": {
    "hash": "3ad933181bd8a04b432d3370b9dc3b0662ad032c4dfaa4e4f1596c548f763858"
   }
  }
 },
 "nbformat": 4,
 "nbformat_minor": 2
}
