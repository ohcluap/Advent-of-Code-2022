{
 "cells": [
  {
   "cell_type": "code",
   "execution_count": null,
   "metadata": {},
   "outputs": [],
   "source": [
    "import os\n",
    "from pathlib import Path\n",
    "\n",
    "# os.getcwd() # '/workspaces/codespaces-jupyter/notebooks/Advent'\n",
    "day = 6\n",
    "base_path = '/workspaces/codespaces-jupyter'\n",
    "data_folder_path = os.path.join(base_path, 'data/Advent Data')\n",
    "data_path = os.path.join(data_folder_path, f'day{day}.txt')\n",
    "data_path, Path(data_path).exists()\n",
    "\n",
    "\n",
    "def get_data(test):\n",
    "    if test:\n",
    "        data = [\n",
    "            'mjqjpqmgbljsphdztnvjfqwrcgsmlb',\n",
    "            'bvwbjplbgvbhsrlpgdmjqwftvncz',\n",
    "            'nppdvjthqldpwncqszvftbrmjlhg',\n",
    "            'nznrnfrfntjfmvfwmzdfjlvtqnbhcprsg',\n",
    "            'zcfzfwzzqfrljwzlrfnpqdbhtmscgvjw'\n",
    "        ]\n",
    "    else:\n",
    "        with open(data_path) as file:\n",
    "            data = file.readlines()\n",
    "    return data\n"
   ]
  },
  {
   "cell_type": "markdown",
   "metadata": {},
   "source": [
    "--- Day 6: Tuning Trouble --\n",
    "-\n",
    "The preparations are finally complete; you and the Elves leave camp on foot and begin to make your way toward the star fruit grove.\n",
    "\n",
    "As you move through the dense undergrowth, one of the Elves gives you a handheld device. He says that it has many fancy features, but the most important one to set up right now is the communication system.\n",
    "\n",
    "However, because he's heard you have significant experience dealing with signal-based systems, he convinced the other Elves that it would be okay to give you their one malfunctioning device - surely you'll have no problem fixing it.\n",
    "\n",
    "As if inspired by comedic timing, the device emits a few colorful sparks.\n",
    "\n",
    "To be able to communicate with the Elves, the device needs to lock on to their signal. The signal is a series of seemingly-random characters that the device receives one at a time.\n",
    "\n",
    "To fix the communication system, you need to add a subroutine to the device that detects a start-of-packet marker in the datastream. In the protocol being used by the Elves, the start of a packet is indicated by a sequence of four characters that are all different.\n",
    "\n",
    "The device will send your subroutine a datastream buffer (your puzzle input); your subroutine needs to identify the first position where the four most recently received characters were all different. Specifically, it needs to report the number of characters from the beginning of the buffer to the end of the first such four-character marker.\n",
    "\n",
    "For example, suppose you receive the following datastream buffer:\n",
    "```\n",
    "mjqjpqmgbljsphdztnvjfqwrcgsmlb\n",
    "```\n",
    "After the first three characters (mjq) have been received, there haven't been enough characters received yet to find the marker. The first time a marker could occur is after the fourth character is received, making the most recent four characters mjqj. Because j is repeated, this isn't a marker.\n",
    "\n",
    "The first time a marker appears is after the seventh character arrives. Once it does, the last four characters received are jpqm, which are all different. In this case, your subroutine should report the value 7, because the first start-of-packet marker is complete after 7 characters have been processed.\n",
    "\n",
    "Here are a few more examples:\n",
    "\n",
    "- `bvwbjplbgvbhsrlpgdmjqwftvncz`: first marker after character 5\n",
    "- `nppdvjthqldpwncqszvftbrmjlhg`: first marker after character 6\n",
    "- `nznrnfrfntjfmvfwmzdfjlvtqnbhcprsg`: first marker after character 10\n",
    "- `zcfzfwzzqfrljwzlrfnpqdbhtmscgvjw`: first marker after character 11\n",
    "How many characters need to be processed before the first start-of-packet marker is detected?\n",
    "\n"
   ]
  },
  {
   "cell_type": "code",
   "execution_count": null,
   "metadata": {},
   "outputs": [],
   "source": [
    "test = False\n",
    "data = get_data(test)\n",
    "def get_chars(data, num_chars):\n",
    "    for line in data:\n",
    "        char_set = set()\n",
    "        pointer_1, pointer_2 = 0, 0\n",
    "        line = line.rstrip()\n",
    "        while pointer_2 < len(line):\n",
    "            if line[pointer_2] in char_set:\n",
    "                while line[pointer_1] != line[pointer_2]:\n",
    "                    char_set.remove(line[pointer_1])\n",
    "                    pointer_1 +=1\n",
    "                char_set.remove(line[pointer_1])\n",
    "                pointer_1 +=1\n",
    "            char_set.add(line[pointer_2])\n",
    "            pointer_2 += 1\n",
    "\n",
    "            if len(char_set) == num_chars:\n",
    "                print(pointer_2)\n",
    "                break\n",
    "get_chars(data, 4)"
   ]
  },
  {
   "cell_type": "markdown",
   "metadata": {},
   "source": [
    "--- Part Two ---\n",
    "\n",
    "Your device's communication system is correctly detecting packets, but still isn't working. It looks like it also needs to look for messages.\n",
    "\n",
    "A start-of-message marker is just like a start-of-packet marker, except it consists of 14 distinct characters rather than 4.\n",
    "\n",
    "Here are the first positions of start-of-message markers for all of the above examples:\n",
    "\n",
    "- `mjqjpqmgbljsphdztnvjfqwrcgsmlb`: first marker after character 19\n",
    "- `bvwbjplbgvbhsrlpgdmjqwftvncz`: first marker after character 23\n",
    "- `nppdvjthqldpwncqszvftbrmjlhg`: first marker after character 23\n",
    "- `nznrnfrfntjfmvfwmzdfjlvtqnbhcprsg`: first marker after character 29\n",
    "- `zcfzfwzzqfrljwzlrfnpqdbhtmscgvjw`': first marker after character 26\n",
    "\n",
    "How many characters need to be processed before the first start-of-message marker is detected?\n",
    "\n"
   ]
  },
  {
   "cell_type": "code",
   "execution_count": null,
   "metadata": {},
   "outputs": [],
   "source": [
    "test = False\n",
    "data = get_data(test)\n",
    "get_chars(data, 14)"
   ]
  }
 ],
 "metadata": {
  "kernelspec": {
   "display_name": "Python 3.10.4 64-bit",
   "language": "python",
   "name": "python3"
  },
  "language_info": {
   "codemirror_mode": {
    "name": "ipython",
    "version": 3
   },
   "file_extension": ".py",
   "mimetype": "text/x-python",
   "name": "python",
   "nbconvert_exporter": "python",
   "pygments_lexer": "ipython3",
   "version": "3.10.4"
  },
  "orig_nbformat": 4,
  "vscode": {
   "interpreter": {
    "hash": "3ad933181bd8a04b432d3370b9dc3b0662ad032c4dfaa4e4f1596c548f763858"
   }
  }
 },
 "nbformat": 4,
 "nbformat_minor": 2
}
