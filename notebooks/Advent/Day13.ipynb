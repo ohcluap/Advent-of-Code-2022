{
 "cells": [
  {
   "cell_type": "code",
   "execution_count": null,
   "metadata": {},
   "outputs": [],
   "source": [
    "import os\n",
    "from pathlib import Path\n",
    "import collections\n",
    "\n",
    "# os.getcwd() # '/workspaces/codespaces-jupyter/notebooks/Advent'\n",
    "day = 13\n",
    "base_path = '/workspaces/codespaces-jupyter'\n",
    "data_folder_path = os.path.join(base_path, 'data/Advent Data')\n",
    "data_path = os.path.join(data_folder_path, f'day{day}.txt')\n",
    "data_path, Path(data_path).exists()\n",
    "test_data_folder_path = os.path.join(base_path, 'data/Advent Data/test')\n",
    "test_data_path = os.path.join(data_folder_path, f'day{day}.txt')\n",
    "\n",
    "def get_data(test=True):\n",
    "    if test:\n",
    "        with open(test_data_path) as file:\n",
    "            data = file.readlines()\n",
    "    else:\n",
    "        with open(data_path) as file:\n",
    "            data = file.readlines()\n",
    "    return data\n"
   ]
  }
 ],
 "metadata": {
  "kernelspec": {
   "display_name": "Python 3",
   "language": "python",
   "name": "python3"
  },
  "language_info": {
   "name": "python",
   "version": "3.10.4 (main, Nov 29 2022, 20:00:25) [GCC 9.4.0]"
  },
  "orig_nbformat": 4,
  "vscode": {
   "interpreter": {
    "hash": "3ad933181bd8a04b432d3370b9dc3b0662ad032c4dfaa4e4f1596c548f763858"
   }
  }
 },
 "nbformat": 4,
 "nbformat_minor": 2
}
