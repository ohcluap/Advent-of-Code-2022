{
 "cells": [
  {
   "cell_type": "code",
   "execution_count": 1,
   "metadata": {},
   "outputs": [],
   "source": [
    "import os\n",
    "from pathlib import Path\n",
    "\n",
    "# os.getcwd() # '/workspaces/codespaces-jupyter/notebooks/Advent'\n",
    "day = 4\n",
    "base_path = '/workspaces/codespaces-jupyter'\n",
    "data_folder_path = os.path.join(base_path, 'data/Advent Data')\n",
    "data_path = os.path.join(data_folder_path, f'day{day}.txt')\n",
    "data_path, Path(data_path).exists()\n",
    "\n",
    "\n",
    "def get_data(test):\n",
    "    if test:\n",
    "        data = [\n",
    "            \"2-4,6-8\",\n",
    "            \"2-3,4-5\",\n",
    "            \"5-7,7-9\",\n",
    "            \"2-8,3-7\",\n",
    "            \"6-6,4-6\",\n",
    "            \"2-6,4-8\",\n",
    "        ]\n",
    "    else:\n",
    "        with open(data_path) as file:\n",
    "            data = file.readlines()\n",
    "    return data\n"
   ]
  },
  {
   "cell_type": "markdown",
   "metadata": {},
   "source": [
    "--- Day 4: Camp Cleanup ---\n",
    "\n",
    "Space needs to be cleared before the last supplies can be unloaded from the ships, and so several Elves have been assigned the job of cleaning up sections of the camp. Every section has a unique ID number, and each Elf is assigned a range of section IDs.\n",
    "\n",
    "However, as some of the Elves compare their section assignments with each other, they've noticed that many of the assignments overlap. To try to quickly find overlaps and reduce duplicated effort, the Elves pair up and make a big list of the section assignments for each pair (your puzzle input).\n",
    "\n",
    "For example, consider the following list of section assignment pairs:\n",
    "```\n",
    "2-4,6-8\n",
    "2-3,4-5\n",
    "5-7,7-9\n",
    "2-8,3-7\n",
    "6-6,4-6\n",
    "2-6,4-8\n",
    "```\n",
    "For the first few pairs, this list means:\n",
    "\n",
    "Within the first pair of Elves, the first Elf was assigned sections 2-4 (sections 2, 3, and 4), while the second Elf was assigned sections 6-8 (sections 6, 7, 8).\n",
    "The Elves in the second pair were each assigned two sections.\n",
    "The Elves in the third pair were each assigned three sections: one got sections 5, 6, and 7, while the other also got 7, plus 8 and 9.\n",
    "This example list uses single-digit section IDs to make it easier to draw; your actual list might contain larger numbers. Visually, these pairs of section assignments look like this:\n",
    "```\n",
    ".234.....  2-4\n",
    ".....678.  6-8\n",
    "\n",
    ".23......  2-3\n",
    "...45....  4-5\n",
    "\n",
    "....567..  5-7\n",
    "......789  7-9\n",
    "\n",
    ".2345678.  2-8\n",
    "..34567..  3-7\n",
    "\n",
    ".....6...  6-6\n",
    "...456...  4-6\n",
    "\n",
    ".23456...  2-6\n",
    "...45678.  4-8\n",
    "```\n",
    "Some of the pairs have noticed that one of their assignments fully contains the other. For example, 2-8 fully contains 3-7, and 6-6 is fully contained by 4-6. In pairs where one assignment fully contains the other, one Elf in the pair would be exclusively cleaning sections their partner will already be cleaning, so these seem like the most in need of reconsideration. In this example, there are 2 such pairs.\n",
    "\n",
    "In how many assignment pairs does one range fully contain the other?\n",
    "\n"
   ]
  },
  {
   "cell_type": "code",
   "execution_count": 2,
   "metadata": {},
   "outputs": [
    {
     "name": "stdout",
     "output_type": "stream",
     "text": [
      "498\n"
     ]
    }
   ],
   "source": [
    "test = False\n",
    "data = get_data(test)\n",
    "overlap = []\n",
    "for line in data:\n",
    "    [left, right] = line.rstrip().split(',')\n",
    "\n",
    "    left_min, left_max = map(int, left.split('-'))\n",
    "    right_min, right_max = map(int,right.split('-'))\n",
    "\n",
    "    append = False\n",
    "    if left_min <= right_min and left_max >= right_max:\n",
    "        append = True\n",
    "    elif right_min <= left_min and right_max >= left_max:\n",
    "        append = True\n",
    "    if append:\n",
    "        overlap.append([[left_min, left_max], [right_min, right_max]])\n",
    "\n",
    "    if test and append:\n",
    "        print([left_min, left_max], [right_min, right_max])\n",
    "print(len(overlap))\n",
    "\n"
   ]
  },
  {
   "cell_type": "markdown",
   "metadata": {},
   "source": [
    "--- Part Two ---\n",
    "\n",
    "It seems like there is still quite a bit of duplicate work planned. Instead, the Elves would like to know the number of pairs that overlap at all.\n",
    "\n",
    "In the above example, the first two pairs `(2-4,6-8 and 2-3,4-5)` don't overlap, while the remaining four pairs `(5-7,7-9, 2-8,3-7, 6-6,4-6, and 2-6,4-8)` do overlap:\n",
    "\n",
    "* `5-7,7-9` overlaps in a single section, 7.\n",
    "* `2-8,3-7` overlaps all of the sections 3 through 7.\n",
    "* `6-6,4-6` overlaps in a single section, 6.\n",
    "* `2-6,4-8` overlaps in sections 4, 5, and 6.\n",
    "So, in this example, the number of overlapping assignment pairs is 4.\n",
    "\n",
    "In how many assignment pairs do the ranges overlap?\n",
    "\n"
   ]
  },
  {
   "cell_type": "code",
   "execution_count": 3,
   "metadata": {},
   "outputs": [
    {
     "name": "stdout",
     "output_type": "stream",
     "text": [
      "859\n"
     ]
    }
   ],
   "source": [
    "test = False\n",
    "data = get_data(test)\n",
    "overlap_dist = []\n",
    "for line in data:\n",
    "    [left, right] = line.rstrip().split(',')\n",
    "\n",
    "    left_min, left_max = map(int, left.split('-'))\n",
    "    right_min, right_max = map(int,right.split('-'))\n",
    "\n",
    "    if left_min <= right_min <= left_max:\n",
    "        if test:\n",
    "            print(1)\n",
    "        overlap_dist.append(min(right_max, left_max) - right_min)\n",
    "    elif right_min <= left_min <= right_max:\n",
    "        if test:\n",
    "            print(2)\n",
    "        overlap_dist.append(min(right_max, left_max) - left_min)\n",
    "\n",
    "if test:\n",
    "    print(overlap_dist)\n",
    "\n",
    "print(len(overlap_dist))\n"
   ]
  }
 ],
 "metadata": {
  "kernelspec": {
   "display_name": "Python 3.10.4 64-bit",
   "language": "python",
   "name": "python3"
  },
  "language_info": {
   "codemirror_mode": {
    "name": "ipython",
    "version": 3
   },
   "file_extension": ".py",
   "mimetype": "text/x-python",
   "name": "python",
   "nbconvert_exporter": "python",
   "pygments_lexer": "ipython3",
   "version": "3.10.4"
  },
  "orig_nbformat": 4,
  "vscode": {
   "interpreter": {
    "hash": "3ad933181bd8a04b432d3370b9dc3b0662ad032c4dfaa4e4f1596c548f763858"
   }
  }
 },
 "nbformat": 4,
 "nbformat_minor": 2
}
